{
 "cells": [
  {
   "cell_type": "markdown",
   "metadata": {},
   "source": [
    "# Satvinder Singh Panesar"
   ]
  },
  {
   "cell_type": "code",
   "execution_count": 1,
   "metadata": {
    "collapsed": true
   },
   "outputs": [],
   "source": [
    "#below line installs twitteR package\n",
    "#install.packages(\"twitteR\",repos='http://cran.rstudio.com/')"
   ]
  },
  {
   "cell_type": "code",
   "execution_count": 2,
   "metadata": {},
   "outputs": [
    {
     "name": "stderr",
     "output_type": "stream",
     "text": [
      "Warning message:\n",
      "\"package 'twitteR' was built under R version 3.4.3\"Warning message:\n",
      "\"package 'stringr' was built under R version 3.4.3\"Warning message:\n",
      "\"package 'maps' was built under R version 3.4.3\""
     ]
    }
   ],
   "source": [
    "#imports\n",
    "library(\"twitteR\")\n",
    "#below line imports library for write_csv\n",
    "library(\"readr\")\n",
    "#below library useful for checking one string conatins other (str_detect)\n",
    "library(stringr)\n",
    "library(maps)"
   ]
  },
  {
   "cell_type": "code",
   "execution_count": 3,
   "metadata": {
    "collapsed": true
   },
   "outputs": [],
   "source": [
    "#flag to control tweet collection\n",
    "collect_tweets <- FALSE"
   ]
  },
  {
   "cell_type": "code",
   "execution_count": 4,
   "metadata": {
    "collapsed": true
   },
   "outputs": [],
   "source": [
    "if(collect_tweets==TRUE){\n",
    "    setup_twitter_oauth(\"t2R6IZqWb5tlaDEJOXRSXjIzR\", \"0fjbeYfbZPb2fbAUbE9w15264dUPdsPNIlpPfFSSJeBLRZCuMk\")    \n",
    "}"
   ]
  },
  {
   "cell_type": "code",
   "execution_count": 5,
   "metadata": {
    "collapsed": true
   },
   "outputs": [],
   "source": [
    "#getting tweets\n",
    "if(collect_tweets == TRUE){\n",
    "    search_date <- '2018-03-07'\n",
    "    #get tweets for date specified\n",
    "    keywords <- c(\"flu\",\"influenza\")\n",
    "    for(keyword in keywords){\n",
    "        #until uses date + 1 because it doesnt consider the given day\n",
    "        tweets <- searchTwitter(keyword, n=5000, since=toString(search_date), until=toString(as.Date(search_date)+1), lang='en')\n",
    "        tweets <- twListToDF(tweets)\n",
    "        #below line creates folder called tweets \n",
    "        dir.create(\"tweets\", showWarnings = FALSE)\n",
    "        dir.create(paste(\"tweets/\",search_date,sep=\"\"), showWarnings = FALSE)\n",
    "        write_csv(tweets, paste(\"tweets/\",search_date,\"/\",keyword,\"_tweets.csv\",sep=\"\"), append=FALSE)\n",
    "        #below line will get screen names from user tweets\n",
    "        screen_names <- tweets$screenName\n",
    "        write_csv(as.data.frame(screen_names), paste(\"tweets/\",search_date,\"/\",keyword,\"_screen_names.csv\",sep=\"\"), append=FALSE)\n",
    "        #below line will get user info\n",
    "        users_info <- twListToDF(lookupUsers(screen_names))\n",
    "        write_csv(users_info, paste(\"tweets/\",search_date,\"/\",keyword,\"_users_info.csv\",sep=\"\"), append=FALSE)\n",
    "        #below line will give locations of users\n",
    "        #iconv will convert locations to ASCII, so we get rid of any special characters\\n\",\n",
    "        locations <- tolower(iconv(users_info$location, to = \"ASCII//TRANSLIT\"))\n",
    "        write_csv(as.data.frame(locations), paste(\"tweets/\",search_date,\"/\",keyword,\"_locations.csv\",sep=\"\"), append=FALSE)    \n",
    "    }\n",
    "}"
   ]
  },
  {
   "cell_type": "code",
   "execution_count": 6,
   "metadata": {},
   "outputs": [
    {
     "name": "stderr",
     "output_type": "stream",
     "text": [
      "Parsed with column specification:\n",
      "cols(\n",
      "  locations = col_character()\n",
      ")\n",
      "Parsed with column specification:\n",
      "cols(\n",
      "  locations = col_character()\n",
      ")\n",
      "Parsed with column specification:\n",
      "cols(\n",
      "  locations = col_character()\n",
      ")\n",
      "Parsed with column specification:\n",
      "cols(\n",
      "  locations = col_character()\n",
      ")\n",
      "Parsed with column specification:\n",
      "cols(\n",
      "  locations = col_character()\n",
      ")\n",
      "Parsed with column specification:\n",
      "cols(\n",
      "  locations = col_character()\n",
      ")\n",
      "Parsed with column specification:\n",
      "cols(\n",
      "  locations = col_character()\n",
      ")\n",
      "Parsed with column specification:\n",
      "cols(\n",
      "  locations = col_character()\n",
      ")\n",
      "Parsed with column specification:\n",
      "cols(\n",
      "  locations = col_character()\n",
      ")\n",
      "Parsed with column specification:\n",
      "cols(\n",
      "  locations = col_character()\n",
      ")\n",
      "Parsed with column specification:\n",
      "cols(\n",
      "  locations = col_character()\n",
      ")\n",
      "Parsed with column specification:\n",
      "cols(\n",
      "  locations = col_character()\n",
      ")\n",
      "Parsed with column specification:\n",
      "cols(\n",
      "  locations = col_character()\n",
      ")\n",
      "Parsed with column specification:\n",
      "cols(\n",
      "  locations = col_character()\n",
      ")\n",
      "Parsed with column specification:\n",
      "cols(\n",
      "  locations = col_character()\n",
      ")\n",
      "Parsed with column specification:\n",
      "cols(\n",
      "  locations = col_character()\n",
      ")\n",
      "Parsed with column specification:\n",
      "cols(\n",
      "  locations = col_character()\n",
      ")\n",
      "Parsed with column specification:\n",
      "cols(\n",
      "  locations = col_character()\n",
      ")\n",
      "Parsed with column specification:\n",
      "cols(\n",
      "  locations = col_character()\n",
      ")\n",
      "Parsed with column specification:\n",
      "cols(\n",
      "  locations = col_character()\n",
      ")\n",
      "Parsed with column specification:\n",
      "cols(\n",
      "  locations = col_character()\n",
      ")\n",
      "Parsed with column specification:\n",
      "cols(\n",
      "  locations = col_character()\n",
      ")\n",
      "Parsed with column specification:\n",
      "cols(\n",
      "  locations = col_character()\n",
      ")\n",
      "Parsed with column specification:\n",
      "cols(\n",
      "  locations = col_character()\n",
      ")\n",
      "Parsed with column specification:\n",
      "cols(\n",
      "  locations = col_character()\n",
      ")\n",
      "Parsed with column specification:\n",
      "cols(\n",
      "  locations = col_character()\n",
      ")\n",
      "Parsed with column specification:\n",
      "cols(\n",
      "  locations = col_character()\n",
      ")\n",
      "Parsed with column specification:\n",
      "cols(\n",
      "  locations = col_character()\n",
      ")\n",
      "Parsed with column specification:\n",
      "cols(\n",
      "  locations = col_character()\n",
      ")\n",
      "Parsed with column specification:\n",
      "cols(\n",
      "  locations = col_character()\n",
      ")\n",
      "Parsed with column specification:\n",
      "cols(\n",
      "  locations = col_character()\n",
      ")\n",
      "Parsed with column specification:\n",
      "cols(\n",
      "  locations = col_character()\n",
      ")\n"
     ]
    }
   ],
   "source": [
    "#reading stored tweets and getting locations\n",
    "folders <- list.files(\"./tweets\", full.names=TRUE)\n",
    "locations <- c()\n",
    "for(folder in folders){\n",
    "    # get files with name ending with locations.csv, beacuse files will have search keyword as their prefix\n",
    "    files <- list.files(folder, full.names=TRUE, pattern=\"*locations.csv\")\n",
    "    for(file in files){\n",
    "        #using read_csv because it takes care of empty list elements\n",
    "        data <- as.data.frame(read_csv(file))\n",
    "        for(ele in data){\n",
    "            locations <- c(locations,ele)\n",
    "        }\n",
    "    }\n",
    "}"
   ]
  },
  {
   "cell_type": "code",
   "execution_count": 7,
   "metadata": {},
   "outputs": [
    {
     "name": "stderr",
     "output_type": "stream",
     "text": [
      "Parsed with column specification:\n",
      "cols(\n",
      "  State = col_character(),\n",
      "  Standard = col_character(),\n",
      "  Postal = col_character(),\n",
      "  `Capital City` = col_character()\n",
      ")\n"
     ]
    }
   ],
   "source": [
    "#pre processing\n",
    "#na.omit takes care of null values\n",
    "locations <- na.omit(locations)\n",
    "#below data for state abbreviations is taken from http://www.stateabbreviations.us/\n",
    "#what I am doing is replace abbreviations in user's location obtained from twitter and replace it with their full forms\n",
    "#Ex: TX is changed to texas\n",
    "state_abbs <- read_csv(\"StateAbbreviations.csv\")\n",
    "state_names <- state_abbs[[1]]\n",
    "#below lower case conversion is done so as to perform case insentitive comparison\n",
    "state_names <- tolower(state_names)\n",
    "postal_abbs <- state_abbs[[3]]\n",
    "postal_abbs <- tolower(postal_abbs)\n",
    "location_index <- 1\n",
    "code_index <- 1\n",
    "\n",
    "for(location in locations){\n",
    "    code_index <- 1\n",
    "    for(ele in postal_abbs){\n",
    "        # replacing state abbreviations with their full names\n",
    "        if(str_detect(location,paste(\", \",ele,sep=\"\")))\n",
    "            locations[location_index] <- state_names[code_index]\n",
    "        else if(str_detect(location,paste(\",\",ele,sep=\"\")))\n",
    "            locations[location_index] <- state_names[code_index]    \n",
    "        else if(str_detect(location,paste(\" \",ele,sep=\"\")))\n",
    "            locations[location_index] <- state_names[code_index]   \n",
    "        else if(str_detect(location,paste(ele,\" \",sep=\"\")))\n",
    "            locations[location_index] <- state_names[code_index]   \n",
    "        code_index <- code_index + 1   \n",
    "    }\n",
    "    location_index <- location_index + 1\n",
    "}"
   ]
  },
  {
   "cell_type": "code",
   "execution_count": 8,
   "metadata": {},
   "outputs": [
    {
     "name": "stdout",
     "output_type": "stream",
     "text": [
      "[1] \"Number of locations obtained from twitter data 66724\"\n"
     ]
    }
   ],
   "source": [
    "#debug only\n",
    "print(paste(\"Number of locations obtained from twitter data\",length(locations)))"
   ]
  },
  {
   "cell_type": "code",
   "execution_count": 9,
   "metadata": {
    "collapsed": true
   },
   "outputs": [],
   "source": [
    "#getting location count\n",
    "states <- map(\"state\",namesonly=TRUE, plot=FALSE)\n",
    "#print(length(states))\n",
    "count <- c()\n",
    "for(state in states){\n",
    "    temp <- 0\n",
    "    for(location in locations){\n",
    "        if(str_detect(location,state)){\n",
    "            temp <- temp + 1\n",
    "        }\n",
    "    }\n",
    "    count <- c(count,temp)\n",
    "}"
   ]
  },
  {
   "cell_type": "code",
   "execution_count": 10,
   "metadata": {},
   "outputs": [
    {
     "name": "stdout",
     "output_type": "stream",
     "text": [
      "[1] \"Number of locations used to plot twitter data heatmap 30821\"\n"
     ]
    }
   ],
   "source": [
    "#debug only\n",
    "print(paste(\"Number of locations used to plot twitter data heatmap\",sum(count)))"
   ]
  },
  {
   "cell_type": "code",
   "execution_count": 11,
   "metadata": {
    "collapsed": true
   },
   "outputs": [],
   "source": [
    "#calculating colors, every 10% of data defines a level\n",
    "max_value <- max(count)\n",
    "min_value <- min(count)\n",
    "difference <- max_value - min_value\n",
    "interval <- as.integer(difference/10)\n",
    "colors <- c()\n",
    "for(ele in count){\n",
    "    if(ele >= (max_value-interval))\n",
    "        colors <- c(colors,\"firebrick4\") #level 10\n",
    "    else if(ele >= (max_value-2*interval))\n",
    "        colors <- c(colors,\"firebrick3\") #level 9\n",
    "    else if(ele >= (max_value-3*interval))\n",
    "        colors <- c(colors,\"firebrick1\") #level 8\n",
    "    else if(ele >= (max_value-4*interval))\n",
    "        colors <- c(colors,\"dodgerblue4\") #level 7\n",
    "    else if(ele >= (max_value-5*interval))\n",
    "        colors <- c(colors,\"dodgerblue3\") #level 6\n",
    "    else if(ele >= (max_value-6*interval))\n",
    "        colors <- c(colors,\"dodgerblue1\") #level 5\n",
    "    else if(ele >= (max_value-7*interval))\n",
    "        colors <- c(colors,\"yellow1\") #level 4\n",
    "    else if(ele >= (max_value-8*interval))\n",
    "        colors <- c(colors,\"palegreen2\") #level 3\n",
    "    else if(ele >= (max_value-9*interval))\n",
    "        colors <- c(colors,\"palegreen3\") #level 2\n",
    "    else\n",
    "        colors <- c(colors,\"palegreen4\") #level 1\n",
    "}"
   ]
  },
  {
   "cell_type": "code",
   "execution_count": 12,
   "metadata": {},
   "outputs": [
    {
     "data": {
      "image/png": "[encoded data removed]",
      "text/plain": [
       "plot without title"
      ]
     },
     "metadata": {},
     "output_type": "display_data"
    }
   ],
   "source": [
    "#below line is used to show maps side to side\n",
    "par(mfrow=c(1,2))\n",
    "\n",
    "#plotting heat map as indicated by tweets\n",
    "map(\"state\", col=colors, fill=TRUE, bg=\"lightblue\")\n",
    "legend_colors <- c(\"firebrick4\",\"firebrick3\",\"firebrick1\",\"dodgerblue4\",\"dodgerblue3\", \"dodgerblue1\",\"yellow1\", \"palegreen2\", \"palegreen3\", \"palegreen4\")\n",
    "legends <- c(\"Level 10\",\"Level 9\",\"Level 8\",\"Level 7\", \"Level 6\", \"Level 5\", \"Level 4\", \"Level 3\", \"Level 2\", \"Level 1\")\n",
    "par(xpd=TRUE)\n",
    "legend(-78, 30, legend=legends, col=legend_colors, lwd=7, cex=0.6)\n",
    "mtext(\"Influenza Activity Level as Indicated by Tweets: 19th Feb 2018 to 7th March 2018\", side=3, cex = 0.5)\n",
    "\n",
    "\n",
    "#plotting heat map as indicated by CDC data for Week 8 Ending 24th Feb 2018\n",
    "\n",
    "library(maps)\n",
    "# below line is only used to obtain state names and accordingly extra states are removed from input file\n",
    "states <- map(\"state\",namesonly=TRUE, plot=FALSE)\n",
    "data <- read.csv(\"StateDataforMap_2017-18week8.csv\")\n",
    "data$STATENAME <- tolower(data$STATENAME)\n",
    "colors <- c()\n",
    "\n",
    "for(state in states){\n",
    "    index <- 1\n",
    "    assigned <- FALSE\n",
    "    for(ele in data$STATENAME){\n",
    "        if(state == ele){\n",
    "            #set color based on temperature\n",
    "            if(data$ACTIVITY.LEVEL[index]==\"Level 10\"){\n",
    "                colors <- c(colors,\"firebrick4\")\n",
    "            }\n",
    "            else if(data$ACTIVITY.LEVEL[index]==\"Level 9\"){\n",
    "                colors <- c(colors,\"firebrick3\")\n",
    "            }\n",
    "            else if(data$ACTIVITY.LEVEL[index]==\"Level 8\"){\n",
    "                colors <- c(colors,\"firebrick1\")\n",
    "            }\n",
    "            else if(data$ACTIVITY.LEVEL[index]==\"Level 7\"){\n",
    "                colors <- c(colors,\"dodgerblue4\")\n",
    "            }\n",
    "            else if(data$ACTIVITY.LEVEL[index]==\"Level 6\"){\n",
    "                colors <- c(colors,\"dodgerblue3\")\n",
    "            }\n",
    "            else if(data$ACTIVITY.LEVEL[index]==\"Level 5\"){\n",
    "                colors <- c(colors,\"dodgerblue1\")\n",
    "            }\n",
    "            else if(data$ACTIVITY.LEVEL[index]==\"Level 4\"){\n",
    "                colors <- c(colors,\"yellow1\")\n",
    "            }\n",
    "            else if(data$ACTIVITY.LEVEL[index]==\"Level 3\"){\n",
    "                colors <- c(colors,\"palegreen2\")\n",
    "            }\n",
    "            else if(data$ACTIVITY.LEVEL[index]==\"Level 2\"){\n",
    "                colors <- c(colors,\"palegreen3\")\n",
    "            }\n",
    "            else if(data$ACTIVITY.LEVEL[index]==\"Level 1\"){\n",
    "                colors <- c(colors,\"palegreen4\")\n",
    "            }\n",
    "            assigned <- TRUE\n",
    "            break\n",
    "        }\n",
    "        index <- index + 1\n",
    "    }\n",
    "     if(assigned == FALSE){\n",
    "        colors <- c(colors,\"gray67\")\n",
    "    }\n",
    "}\n",
    "map(\"state\", col=colors, fill=TRUE, bg=\"lightblue\")\n",
    "colors <- c(\"firebrick4\",\"firebrick3\",\"firebrick1\",\"dodgerblue4\",\"dodgerblue3\", \"dodgerblue1\",\"yellow1\", \"palegreen2\", \"palegreen3\", \"palegreen4\",\"gray67\")\n",
    "legends <- c(\"Level 10\",\"Level 9\",\"Level 8\",\"Level 7\", \"Level 6\", \"Level 5\", \"Level 4\", \"Level 3\", \"Level 2\", \"Level 1\",\"No Data\")\n",
    "#to prevent clipping of legend i.e. it allows legend to be drawn beyond map limits\n",
    "par(xpd=TRUE)\n",
    "#par(\"usr\")\n",
    "legend(-78, 30, legend=legends, col=colors, lwd=6, cex=0.6)\n",
    "mtext(\"Influenza Activity Level as Indicated by CDC: for Week 8 Ending 24th Feb 2018\", side=3, cex=0.5)"
   ]
  },
  {
   "cell_type": "code",
   "execution_count": null,
   "metadata": {
    "collapsed": true
   },
   "outputs": [],
   "source": []
  }
 ],
 "metadata": {
  "kernelspec": {
   "display_name": "R",
   "language": "R",
   "name": "ir"
  },
  "language_info": {
   "codemirror_mode": "r",
   "file_extension": ".r",
   "mimetype": "text/x-r-source",
   "name": "R",
   "pygments_lexer": "r",
   "version": "3.4.2"
  }
 },
 "nbformat": 4,
 "nbformat_minor": 2
}
